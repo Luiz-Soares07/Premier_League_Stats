{
 "cells": [
  {
   "cell_type": "code",
   "execution_count": 7,
   "id": "df854faf",
   "metadata": {},
   "outputs": [
    {
     "name": "stdout",
     "output_type": "stream",
     "text": [
      "Index(['match_id', 'date', 'stadium', 'city', 'referee', 'season', 'round',\n",
      "       'home_team', 'away_team', 'goals_home', 'goals_away',\n",
      "       'score_home_in_half_time', 'score_away_in_half_time',\n",
      "       'score_home_in_full_time', 'score_away_in_full_time', 'winner_name',\n",
      "       'day', 'month', 'year', 'weekday', 'hour', 'loser_name'],\n",
      "      dtype='object')\n"
     ]
    },
    {
     "ename": "KeyError",
     "evalue": "'draw_home'",
     "output_type": "error",
     "traceback": [
      "\u001b[31m---------------------------------------------------------------------------\u001b[39m",
      "\u001b[31mKeyError\u001b[39m                                  Traceback (most recent call last)",
      "\u001b[36mCell\u001b[39m\u001b[36m \u001b[39m\u001b[32mIn[7]\u001b[39m\u001b[32m, line 21\u001b[39m\n\u001b[32m     14\u001b[39m df.head()\n\u001b[32m     16\u001b[39m df = df[[\u001b[33m\"\u001b[39m\u001b[33mseason\u001b[39m\u001b[33m\"\u001b[39m, \u001b[33m\"\u001b[39m\u001b[33mhome_team\u001b[39m\u001b[33m\"\u001b[39m, \u001b[33m\"\u001b[39m\u001b[33maway_team\u001b[39m\u001b[33m\"\u001b[39m, \u001b[33m\"\u001b[39m\u001b[33mgoals_home\u001b[39m\u001b[33m\"\u001b[39m, \u001b[33m\"\u001b[39m\u001b[33mgoals_away\u001b[39m\u001b[33m\"\u001b[39m, \u001b[33m\"\u001b[39m\u001b[33mwinner_name\u001b[39m\u001b[33m\"\u001b[39m,\n\u001b[32m     17\u001b[39m         \u001b[33m\"\u001b[39m\u001b[33mloser_name\u001b[39m\u001b[33m\"\u001b[39m, \u001b[33m\"\u001b[39m\u001b[33mscore_home_in_half_time\u001b[39m\u001b[33m\"\u001b[39m, \u001b[33m\"\u001b[39m\u001b[33mscore_away_in_half_time\u001b[39m\u001b[33m\"\u001b[39m, \u001b[33m\"\u001b[39m\u001b[33mscore_home_in_full_time\u001b[39m\u001b[33m\"\u001b[39m,\n\u001b[32m     18\u001b[39m         \u001b[33m\"\u001b[39m\u001b[33mscore_away_in_full_time\u001b[39m\u001b[33m\"\u001b[39m\n\u001b[32m     19\u001b[39m         ]]\n\u001b[32m---> \u001b[39m\u001b[32m21\u001b[39m df_stats = \u001b[43mcalculate_team_stats\u001b[49m\u001b[43m(\u001b[49m\u001b[43mdf\u001b[49m\u001b[43m)\u001b[49m\n\u001b[32m     23\u001b[39m df_stats.head()\n",
      "\u001b[36mFile \u001b[39m\u001b[32mc:\\Users\\luizf\\OneDrive\\Área de Trabalho\\Project-Premier-League\\scripts\\teams_stats.py:101\u001b[39m, in \u001b[36mcalculate_team_stats\u001b[39m\u001b[34m(df)\u001b[39m\n\u001b[32m     99\u001b[39m team_stats[\u001b[33m\"\u001b[39m\u001b[33mwins\u001b[39m\u001b[33m\"\u001b[39m] = team_stats[\u001b[33m\"\u001b[39m\u001b[33mwins_home\u001b[39m\u001b[33m\"\u001b[39m] + team_stats[\u001b[33m\"\u001b[39m\u001b[33mwins_away\u001b[39m\u001b[33m\"\u001b[39m]\n\u001b[32m    100\u001b[39m team_stats[\u001b[33m\"\u001b[39m\u001b[33mlosses\u001b[39m\u001b[33m\"\u001b[39m] = team_stats[\u001b[33m\"\u001b[39m\u001b[33mlosses_home\u001b[39m\u001b[33m\"\u001b[39m] + team_stats[\u001b[33m\"\u001b[39m\u001b[33mlosses_away\u001b[39m\u001b[33m\"\u001b[39m]\n\u001b[32m--> \u001b[39m\u001b[32m101\u001b[39m team_stats[\u001b[33m\"\u001b[39m\u001b[33mdraws\u001b[39m\u001b[33m\"\u001b[39m] = \u001b[43mteam_stats\u001b[49m\u001b[43m[\u001b[49m\u001b[33;43m\"\u001b[39;49m\u001b[33;43mdraw_home\u001b[39;49m\u001b[33;43m\"\u001b[39;49m\u001b[43m]\u001b[49m + team_stats[\u001b[33m\"\u001b[39m\u001b[33mdraws_away\u001b[39m\u001b[33m\"\u001b[39m]\n\u001b[32m    102\u001b[39m team_stats[\u001b[33m\"\u001b[39m\u001b[33mgoals_score_total\u001b[39m\u001b[33m\"\u001b[39m] = team_stats[\u001b[33m\"\u001b[39m\u001b[33mgoals_home\u001b[39m\u001b[33m\"\u001b[39m] + team_stats[\u001b[33m\"\u001b[39m\u001b[33mgoals_away\u001b[39m\u001b[33m\"\u001b[39m]\n\u001b[32m    103\u001b[39m team_stats[\u001b[33m\"\u001b[39m\u001b[33mconceded_total\u001b[39m\u001b[33m\"\u001b[39m] = team_stats[\u001b[33m\"\u001b[39m\u001b[33mconceded_home\u001b[39m\u001b[33m\"\u001b[39m] + team_stats[\u001b[33m\"\u001b[39m\u001b[33mconceded_away\u001b[39m\u001b[33m\"\u001b[39m]\n",
      "\u001b[31mKeyError\u001b[39m: 'draw_home'"
     ]
    }
   ],
   "source": [
    "import pandas as pd\n",
    "import sys\n",
    "import os\n",
    "from typing import List, Dict\n",
    "\n",
    "\n",
    "sys.path.append(os.path.abspath(\"../scripts\"))\n",
    "\n",
    "from teams_stats import calculate_team_stats\n",
    "\n",
    "df = pd.read_csv(\"../data/processed/df_all_clean.csv\")\n",
    "print(df.columns)\n",
    "\n",
    "df.head()\n",
    "\n",
    "df = df[[\"season\", \"home_team\", \"away_team\", \"goals_home\", \"goals_away\", \"winner_name\",\n",
    "        \"loser_name\", \"score_home_in_half_time\", \"score_away_in_half_time\", \"score_home_in_full_time\",\n",
    "        \"score_away_in_full_time\"\n",
    "        ]]\n",
    "\n",
    "df_stats = calculate_team_stats(df)\n",
    "\n",
    "df_stats.head()\n",
    "\n",
    "\n",
    "\n"
   ]
  },
  {
   "cell_type": "code",
   "execution_count": null,
   "id": "54d59570",
   "metadata": {},
   "outputs": [],
   "source": []
  }
 ],
 "metadata": {
  "kernelspec": {
   "display_name": "Python 3",
   "language": "python",
   "name": "python3"
  },
  "language_info": {
   "codemirror_mode": {
    "name": "ipython",
    "version": 3
   },
   "file_extension": ".py",
   "mimetype": "text/x-python",
   "name": "python",
   "nbconvert_exporter": "python",
   "pygments_lexer": "ipython3",
   "version": "3.13.2"
  }
 },
 "nbformat": 4,
 "nbformat_minor": 5
}
