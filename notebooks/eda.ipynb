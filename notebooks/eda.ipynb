{
 "cells": [
  {
   "cell_type": "code",
   "execution_count": 28,
   "id": "473aeaf3",
   "metadata": {},
   "outputs": [],
   "source": [
    "import pandas as pd\n",
    "import os\n",
    "import glob\n",
    "import matplotlib.pyplot as plt\n",
    "import seaborn as sns\n",
    "\n",
    "#Read csv files for each season\n",
    "df_2021 = pd.read_csv(\"../data/processed/fixtures_season_2021.csv\")\n",
    "df_2022 = pd.read_csv(\"../data/processed/fixtures_season_2022.csv\")\n",
    "df_2023 = pd.read_csv(\"../data/processed/fixtures_season_2023.csv\")\n",
    "\n",
    "# Combine dataframes for all seasons\n",
    "df_all = pd.concat([df_2021, df_2022, df_2023], ignore_index=True)\n",
    "\n"
   ]
  },
  {
   "cell_type": "code",
   "execution_count": 29,
   "id": "7a98e4cb",
   "metadata": {},
   "outputs": [],
   "source": [
    "df_all[\"date\"] = pd.to_datetime(df_all[\"date\"]).dt.tz_localize(None)\n",
    "\n",
    "\n",
    "df_all[\"day\"] = df_all[\"date\"].dt.day\n",
    "df_all[\"month\"] = df_all[\"date\"].dt.month\n",
    "df_all[\"year\"] = df_all[\"date\"].dt.year\n",
    "df_all[\"weekday\"] = df_all[\"date\"].dt.weekday\n",
    "df_all[\"hour\"] = df_all[\"date\"].dt.hour\n",
    "\n"
   ]
  },
  {
   "cell_type": "code",
   "execution_count": 30,
   "id": "e9dd3b72",
   "metadata": {},
   "outputs": [],
   "source": [
    "df_all = df_all.dropna(axis=1, how=\"all\")\n",
    "df_all = df_all.drop(columns=[\"elapsed_time\", \"status\"], axis=1, errors='ignore')\n",
    "df_all = df_all.drop_duplicates()\n",
    "\n",
    "df_all[\"round\"] = df_all[\"round\"].str.extract(r'(\\d+)').astype(int)\n"
   ]
  },
  {
   "cell_type": "code",
   "execution_count": 31,
   "id": "2930765e",
   "metadata": {},
   "outputs": [],
   "source": [
    "def get_loser(row):\n",
    "    if row[\"winner_name\"] == row[\"home_team\"]:\n",
    "        return row[\"away_team\"]\n",
    "    elif row[\"winner_name\"] == row[\"away_team\"]:\n",
    "        return row[\"home_team\"]\n",
    "    elif row[\"winner_name\"] == \"Draw\":\n",
    "        return \"Draw\"\n",
    "    \n",
    "df_all[\"loser_name\"] = df_all.apply(get_loser, axis=1)\n",
    "\n",
    "\n"
   ]
  },
  {
   "cell_type": "code",
   "execution_count": 32,
   "id": "6196b504",
   "metadata": {},
   "outputs": [],
   "source": [
    "df_all.to_csv(\"../data/processed/df_all_clean.csv\", index=False, encoding=\"utf-8\")"
   ]
  },
  {
   "cell_type": "markdown",
   "id": "efc72ee3",
   "metadata": {},
   "source": []
  }
 ],
 "metadata": {
  "kernelspec": {
   "display_name": "Python 3",
   "language": "python",
   "name": "python3"
  },
  "language_info": {
   "codemirror_mode": {
    "name": "ipython",
    "version": 3
   },
   "file_extension": ".py",
   "mimetype": "text/x-python",
   "name": "python",
   "nbconvert_exporter": "python",
   "pygments_lexer": "ipython3",
   "version": "3.13.2"
  }
 },
 "nbformat": 4,
 "nbformat_minor": 5
}
